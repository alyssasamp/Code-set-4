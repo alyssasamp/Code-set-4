{
 "cells": [
  {
   "cell_type": "markdown",
   "id": "4e1397f4",
   "metadata": {},
   "source": [
    "## Code Set 4 "
   ]
  },
  {
   "cell_type": "markdown",
   "id": "249a75bf",
   "metadata": {},
   "source": [
    "## Problem 1 Algorithm Workbench \n",
    "#We are asked to write a while loop to enter a number and then multiply the number by 10, and have that represent the variable 'product'. the loop should continue going unless the product is less than 100. "
   ]
  },
  {
   "cell_type": "code",
   "execution_count": 10,
   "id": "bb94a37e",
   "metadata": {},
   "outputs": [
    {
     "name": "stdout",
     "output_type": "stream",
     "text": [
      "Enter a number: 11\n",
      "Loop ended\n"
     ]
    }
   ],
   "source": [
    "#This while loop will continue going unless the product is less than 100. \n",
    "product = 0\n",
    "n = 0\n",
    "while (n < 100) :\n",
    "#Need to set number equal to the input number they enter so that it can connect it to the next step of multiplying it by 10. \n",
    "    number = int(input('Enter a number: ')) ;\n",
    "    product = number * 10;\n",
    "    \n",
    "    if (product < 100):\n",
    "        print(\"Product of \" + str(number) + \" * 10 = \" + str(product));\n",
    "        n = n + 1;\n",
    "    else:\n",
    "        print(\"Loop ended\"); \n",
    "        n = n + 100;\n",
    "       \n",
    "    \n",
    "    \n",
    "    "
   ]
  },
  {
   "cell_type": "code",
   "execution_count": null,
   "id": "571ae9f3",
   "metadata": {},
   "outputs": [],
   "source": []
  },
  {
   "cell_type": "code",
   "execution_count": null,
   "id": "ff39cb65",
   "metadata": {},
   "outputs": [],
   "source": []
  }
 ],
 "metadata": {
  "kernelspec": {
   "display_name": "Python 3 (ipykernel)",
   "language": "python",
   "name": "python3"
  },
  "language_info": {
   "codemirror_mode": {
    "name": "ipython",
    "version": 3
   },
   "file_extension": ".py",
   "mimetype": "text/x-python",
   "name": "python",
   "nbconvert_exporter": "python",
   "pygments_lexer": "ipython3",
   "version": "3.10.9"
  }
 },
 "nbformat": 4,
 "nbformat_minor": 5
}
