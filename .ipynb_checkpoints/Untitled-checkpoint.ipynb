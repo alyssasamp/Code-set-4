{
 "cells": [
  {
   "cell_type": "markdown",
   "id": "a511abe1",
   "metadata": {},
   "source": [
    "## Code Set 4 "
   ]
  },
  {
   "cell_type": "markdown",
   "id": "8298dec8",
   "metadata": {},
   "source": [
    "## Problem 1 Algorithm Workbench \n",
    "#We are asked to write a while loop to enter a number and then multiply the number by 10, and have that represent the variable 'product'. the loop should continue going unless the product is less than 100. "
   ]
  },
  {
   "cell_type": "code",
   "execution_count": 11,
   "id": "62cb961e",
   "metadata": {},
   "outputs": [
    {
     "name": "stdout",
     "output_type": "stream",
     "text": [
      "Enter a number: 2\n",
      "Product of 2 * 10 = 20\n",
      "Enter a number: 3\n",
      "Product of 3 * 10 = 30\n",
      "Enter a number: 2\n",
      "Product of 2 * 10 = 20\n",
      "Enter a number: 1\n",
      "Product of 1 * 10 = 10\n",
      "Enter a number: 1\n",
      "Product of 1 * 10 = 10\n",
      "Enter a number: 1\n",
      "Product of 1 * 10 = 10\n",
      "Enter a number: 10\n",
      "Loop ended\n"
     ]
    }
   ],
   "source": [
    "#This while loop will continue going unless the product is less than 100. \n",
    "product = 0\n",
    "n = 0\n",
    "while (n < 100) :\n",
    "#Need to set number equal to the input number they enter so that it can connect it to the next step of multiplying it by 10. \n",
    "    number = int(input('Enter a number: ')) ;\n",
    "    product = number * 10;\n",
    "#USed if else statement to show product being 100, if it isn't it prints the result    \n",
    "    if (product < 100):\n",
    "        print(\"Product of \" + str(number) + \" * 10 = \" + str(product));\n",
    "        n = n + 1;\n",
    "        #If product is over 100 it will print loop ended and will end loop because n is bigger than 100 \n",
    "    else:\n",
    "        print(\"Loop ended\"); \n",
    "        n = n + 100;\n",
    "       \n",
    "    \n",
    "    \n",
    "    "
   ]
  },
  {
   "cell_type": "markdown",
   "id": "d4bc7390",
   "metadata": {},
   "source": [
    "## Problem 3  -Algorithm workbench \n",
    "#We had to write a loop showing the set of numbers from 0 to 1000. I used the for method to do this. "
   ]
  },
  {
   "cell_type": "code",
   "execution_count": 36,
   "id": "a9684c17",
   "metadata": {},
   "outputs": [
    {
     "name": "stdout",
     "output_type": "stream",
     "text": [
      "0\n",
      "10\n",
      "20\n",
      "30\n",
      "40\n",
      "50\n",
      "60\n",
      "70\n",
      "80\n",
      "90\n",
      "100\n",
      "110\n",
      "120\n",
      "130\n",
      "140\n",
      "150\n",
      "160\n",
      "170\n",
      "180\n",
      "190\n",
      "200\n",
      "210\n",
      "220\n",
      "230\n",
      "240\n",
      "250\n",
      "260\n",
      "270\n",
      "280\n",
      "290\n",
      "300\n",
      "310\n",
      "320\n",
      "330\n",
      "340\n",
      "350\n",
      "360\n",
      "370\n",
      "380\n",
      "390\n",
      "400\n",
      "410\n",
      "420\n",
      "430\n",
      "440\n",
      "450\n",
      "460\n",
      "470\n",
      "480\n",
      "490\n",
      "500\n",
      "510\n",
      "520\n",
      "530\n",
      "540\n",
      "550\n",
      "560\n",
      "570\n",
      "580\n",
      "590\n",
      "600\n",
      "610\n",
      "620\n",
      "630\n",
      "640\n",
      "650\n",
      "660\n",
      "670\n",
      "680\n",
      "690\n",
      "700\n",
      "710\n",
      "720\n",
      "730\n",
      "740\n",
      "750\n",
      "760\n",
      "770\n",
      "780\n",
      "790\n",
      "800\n",
      "810\n",
      "820\n",
      "830\n",
      "840\n",
      "850\n",
      "860\n",
      "870\n",
      "880\n",
      "890\n",
      "900\n",
      "910\n",
      "920\n",
      "930\n",
      "940\n",
      "950\n",
      "960\n",
      "970\n",
      "980\n",
      "990\n",
      "1000\n"
     ]
    }
   ],
   "source": [
    "### This for loop begins as the number is equal to 0, and after each iteration the number increases by 1,\n",
    "### and is then multiplied by 10 and repeated until the range is above 1000.\n",
    "for num in range (0,1001,10):\n",
    "    print(num);"
   ]
  },
  {
   "cell_type": "markdown",
   "id": "85955a4d",
   "metadata": {},
   "source": [
    "# Programming exercise - problem 1- Bug Collection \n",
    "##Need to create a loop that keeps a total of number of bags collected of bugs for five days, at the end of the loop, it will display how many total bugs are collected. "
   ]
  },
  {
   "cell_type": "code",
   "execution_count": 39,
   "id": "46683457",
   "metadata": {},
   "outputs": [
    {
     "name": "stdout",
     "output_type": "stream",
     "text": [
      "Enter number of bugs collected in day 1 : 6\n",
      "Enter number of bugs collected in day 2 : 12\n",
      "Enter number of bugs collected in day 3 : 17\n",
      "Enter number of bugs collected in day 4 : 10\n",
      "Enter number of bugs collected in day 5 : 15\n",
      "Total number of bugs collected: 60\n"
     ]
    }
   ],
   "source": [
    "#Need to initialize the total amount of bugs collected \n",
    "TotalCollection = 0\n",
    "#Need to loop from 1 to 5 for the five days of collection\n",
    "for i in range(1,6):\n",
    "    #Where number of bug collected each day get added to inital collection\n",
    "    TotalCollection+=int(input(\"Enter number of bugs collected in day \"+str(i)+\" : \"))\n",
    "#Using print to print out total of bugs collected at end of the five days \n",
    "print(\"Total number of bugs collected:\",TotalCollection)\n"
   ]
  },
  {
   "cell_type": "markdown",
   "id": "1d3b6135",
   "metadata": {},
   "source": [
    "# Programming exercise - Problem 4 - Distance Travelled\n",
    "##We are asked to write a program asking for speed of the vehicle in mph and the number of hours it has travelled, this will use a loop to display the distance it has travelled for each hour."
   ]
  },
  {
   "cell_type": "code",
   "execution_count": 42,
   "id": "ec50be64",
   "metadata": {},
   "outputs": [
    {
     "name": "stdout",
     "output_type": "stream",
     "text": [
      "Enter speed of vehicle in mph: 50\n",
      "Enter number of hours travelled: 62\n",
      "\n",
      "Hours\tDistance travelled\n",
      "----------------------------\n",
      "1 \t 50.0\n",
      "2 \t 100.0\n",
      "3 \t 150.0\n",
      "4 \t 200.0\n",
      "5 \t 250.0\n",
      "6 \t 300.0\n",
      "7 \t 350.0\n",
      "8 \t 400.0\n",
      "9 \t 450.0\n",
      "10 \t 500.0\n",
      "11 \t 550.0\n",
      "12 \t 600.0\n",
      "13 \t 650.0\n",
      "14 \t 700.0\n",
      "15 \t 750.0\n",
      "16 \t 800.0\n",
      "17 \t 850.0\n",
      "18 \t 900.0\n",
      "19 \t 950.0\n",
      "20 \t 1000.0\n",
      "21 \t 1050.0\n",
      "22 \t 1100.0\n",
      "23 \t 1150.0\n",
      "24 \t 1200.0\n",
      "25 \t 1250.0\n",
      "26 \t 1300.0\n",
      "27 \t 1350.0\n",
      "28 \t 1400.0\n",
      "29 \t 1450.0\n",
      "30 \t 1500.0\n",
      "31 \t 1550.0\n",
      "32 \t 1600.0\n",
      "33 \t 1650.0\n",
      "34 \t 1700.0\n",
      "35 \t 1750.0\n",
      "36 \t 1800.0\n",
      "37 \t 1850.0\n",
      "38 \t 1900.0\n",
      "39 \t 1950.0\n",
      "40 \t 2000.0\n",
      "41 \t 2050.0\n",
      "42 \t 2100.0\n",
      "43 \t 2150.0\n",
      "44 \t 2200.0\n",
      "45 \t 2250.0\n",
      "46 \t 2300.0\n",
      "47 \t 2350.0\n",
      "48 \t 2400.0\n",
      "49 \t 2450.0\n",
      "50 \t 2500.0\n",
      "51 \t 2550.0\n",
      "52 \t 2600.0\n",
      "53 \t 2650.0\n",
      "54 \t 2700.0\n",
      "55 \t 2750.0\n",
      "56 \t 2800.0\n",
      "57 \t 2850.0\n",
      "58 \t 2900.0\n",
      "59 \t 2950.0\n",
      "60 \t 3000.0\n",
      "61 \t 3050.0\n",
      "62 \t 3100.0\n",
      "The accumulated distance travelled is  97650.0\n"
     ]
    }
   ],
   "source": [
    "#Begin asking for speed of the vehicle and naming it speed \n",
    "speed = float(input(\"Enter speed of vehicle in mph: \"))\n",
    "#Ask how many hours were spent travelling \n",
    "hours = int(input(\"Enter number of hours travelled: \"))\n",
    "#Now are printing hours and distance travelled to display it in writing, \\n moves it to new line, \\t moves it spaces\n",
    "print(\"\\nHours\\tDistance travelled\")\n",
    "print(\"----------------------------\")\n",
    "#Need to initialize the the accumulated distance as 0 \n",
    "accumulated_distance = 0\n",
    "#Looping it for the amount of hours, it will stop when it reaches total hours \n",
    "for time in range(1,hours+1):\n",
    "        #Calculates distance using the formula of distance 'speed x time'\n",
    "    distance = speed * time\n",
    "    print(time,\"\\t\",distance)\n",
    "    accumulated_distance = accumulated_distance + distance\n",
    "            #This just adds the distance into the accumulated which is zero at first\n",
    "    #Now ending it off with print function displaying what the accumulated distance travelled is\n",
    "print(\"The accumulated distance travelled is \",accumulated_distance)\n"
   ]
  },
  {
   "cell_type": "markdown",
   "id": "5342c9ca",
   "metadata": {},
   "source": [
    "# Programming exercise - problem 11- factorial of a number \n",
    "#We are asked to write a program that asks them to enter a nonnegative integer then uses a loop to calculate the factorial and to display it. "
   ]
  },
  {
   "cell_type": "code",
   "execution_count": 43,
   "id": "69bae377",
   "metadata": {},
   "outputs": [
    {
     "name": "stdout",
     "output_type": "stream",
     "text": [
      "Enter a nonnegative integer: 6\n",
      "720\n"
     ]
    }
   ],
   "source": [
    "#Starting off by having them enter a nonnegative number \n",
    "n = int(input(\"Enter a nonnegative integer: \"))\n",
    "#n stands for nonnegative integer, use the while statement making the number true\n",
    "while n<0:\n",
    "    n = int(input(\"Enter a nonnegative integer: \"))\n",
    "factorial = 1 \n",
    "    #Now using a for loop to create a loop for this that multiplies n by integer 1 \n",
    "for i in range(1,n+1):\n",
    "    factorial = factorial * i\n",
    "    #Using print to print the factorial output of this nonnegative integer \n",
    "print(factorial)"
   ]
  },
  {
   "cell_type": "markdown",
   "id": "48082ced",
   "metadata": {},
   "source": [
    "# Programming exercise- problem 14- Drawing a pattern \n",
    "#THis problem asks to use nested loops to draw a specific pattern that looks like each new row has more and more spaces imbetween the two \"##\" symbols. "
   ]
  },
  {
   "cell_type": "code",
   "execution_count": 50,
   "id": "83dda58a",
   "metadata": {},
   "outputs": [
    {
     "name": "stdout",
     "output_type": "stream",
     "text": [
      "Enter the number of lines : 6\n",
      "##\n",
      "# #\n",
      "#  #\n",
      "#   #\n",
      "#    #\n",
      "#     #\n"
     ]
    }
   ],
   "source": [
    "#Starting this off by asking for the number of lines \n",
    "lines=int(input(\"Enter the number of lines : \"))\n",
    "#Now using the for loop for the amount of lines used \n",
    "for i in range(1,lines+1):\n",
    "    #Now using print to display the symbol the problems having us use \n",
    "    print(\"#\",end='')\n",
    "    #This part is now for the number of spaces between the symbol in each new line\n",
    "    for j in range(0,i-1):\n",
    "        #USing print function to actually print the spaces \n",
    "        print('',end=' ')\n",
    "    #THis print function is going to print the next # symbol \n",
    "    print(\"#\")"
   ]
  },
  {
   "cell_type": "code",
   "execution_count": null,
   "id": "2bbdedf4",
   "metadata": {},
   "outputs": [],
   "source": []
  }
 ],
 "metadata": {
  "kernelspec": {
   "display_name": "Python 3 (ipykernel)",
   "language": "python",
   "name": "python3"
  },
  "language_info": {
   "codemirror_mode": {
    "name": "ipython",
    "version": 3
   },
   "file_extension": ".py",
   "mimetype": "text/x-python",
   "name": "python",
   "nbconvert_exporter": "python",
   "pygments_lexer": "ipython3",
   "version": "3.10.9"
  }
 },
 "nbformat": 4,
 "nbformat_minor": 5
}
