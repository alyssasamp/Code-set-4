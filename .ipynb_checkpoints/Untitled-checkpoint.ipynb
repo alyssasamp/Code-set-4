{
 "cells": [
  {
   "cell_type": "markdown",
   "id": "655848fd",
   "metadata": {},
   "source": [
    "## Code Set 4 "
   ]
  },
  {
   "cell_type": "markdown",
   "id": "3cc923a4",
   "metadata": {},
   "source": [
    "## Problem 1 Algorithm Workbench \n",
    "#We are asked to write a while loop to enter a number and then multiply the number by 10, and have that represent the variable 'product'. the loop should continue going unless the product is less than 100. "
   ]
  },
  {
   "cell_type": "code",
   "execution_count": 11,
   "id": "02b811ab",
   "metadata": {},
   "outputs": [
    {
     "name": "stdout",
     "output_type": "stream",
     "text": [
      "Enter a number: 2\n",
      "Product of 2 * 10 = 20\n",
      "Enter a number: 3\n",
      "Product of 3 * 10 = 30\n",
      "Enter a number: 2\n",
      "Product of 2 * 10 = 20\n",
      "Enter a number: 1\n",
      "Product of 1 * 10 = 10\n",
      "Enter a number: 1\n",
      "Product of 1 * 10 = 10\n",
      "Enter a number: 1\n",
      "Product of 1 * 10 = 10\n",
      "Enter a number: 10\n",
      "Loop ended\n"
     ]
    }
   ],
   "source": [
    "#This while loop will continue going unless the product is less than 100. \n",
    "product = 0\n",
    "n = 0\n",
    "while (n < 100) :\n",
    "#Need to set number equal to the input number they enter so that it can connect it to the next step of multiplying it by 10. \n",
    "    number = int(input('Enter a number: ')) ;\n",
    "    product = number * 10;\n",
    "#USed if else statement to show product being 100, if it isn't it prints the result    \n",
    "    if (product < 100):\n",
    "        print(\"Product of \" + str(number) + \" * 10 = \" + str(product));\n",
    "        n = n + 1;\n",
    "        #If product is over 100 it will print loop ended and will end loop because n is bigger than 100 \n",
    "    else:\n",
    "        print(\"Loop ended\"); \n",
    "        n = n + 100;\n",
    "       \n",
    "    \n",
    "    \n",
    "    "
   ]
  },
  {
   "cell_type": "code",
   "execution_count": null,
   "id": "5a1ed359",
   "metadata": {},
   "outputs": [],
   "source": []
  },
  {
   "cell_type": "code",
   "execution_count": null,
   "id": "b9f053d2",
   "metadata": {},
   "outputs": [],
   "source": []
  }
 ],
 "metadata": {
  "kernelspec": {
   "display_name": "Python 3 (ipykernel)",
   "language": "python",
   "name": "python3"
  },
  "language_info": {
   "codemirror_mode": {
    "name": "ipython",
    "version": 3
   },
   "file_extension": ".py",
   "mimetype": "text/x-python",
   "name": "python",
   "nbconvert_exporter": "python",
   "pygments_lexer": "ipython3",
   "version": "3.10.9"
  }
 },
 "nbformat": 4,
 "nbformat_minor": 5
}
