{
 "cells": [
  {
   "cell_type": "markdown",
   "id": "4e613ea1",
   "metadata": {},
   "source": [
    "## Code Set 4 "
   ]
  },
  {
   "cell_type": "markdown",
   "id": "5eb8ffa7",
   "metadata": {},
   "source": [
    "## Problem 1 Algorithm Workbench \n",
    "#We are asked to write a while loop to enter a number and then multiply the number by 10, and have that represent the variable 'product'. the loop should continue going unless the product is less than 100. "
   ]
  },
  {
   "cell_type": "code",
   "execution_count": 11,
   "id": "79205393",
   "metadata": {},
   "outputs": [
    {
     "name": "stdout",
     "output_type": "stream",
     "text": [
      "Enter a number: 2\n",
      "Product of 2 * 10 = 20\n",
      "Enter a number: 3\n",
      "Product of 3 * 10 = 30\n",
      "Enter a number: 2\n",
      "Product of 2 * 10 = 20\n",
      "Enter a number: 1\n",
      "Product of 1 * 10 = 10\n",
      "Enter a number: 1\n",
      "Product of 1 * 10 = 10\n",
      "Enter a number: 1\n",
      "Product of 1 * 10 = 10\n",
      "Enter a number: 10\n",
      "Loop ended\n"
     ]
    }
   ],
   "source": [
    "#This while loop will continue going unless the product is less than 100. \n",
    "product = 0\n",
    "n = 0\n",
    "while (n < 100) :\n",
    "#Need to set number equal to the input number they enter so that it can connect it to the next step of multiplying it by 10. \n",
    "    number = int(input('Enter a number: ')) ;\n",
    "    product = number * 10;\n",
    "#USed if else statement to show product being 100, if it isn't it prints the result    \n",
    "    if (product < 100):\n",
    "        print(\"Product of \" + str(number) + \" * 10 = \" + str(product));\n",
    "        n = n + 1;\n",
    "        #If product is over 100 it will print loop ended and will end loop because n is bigger than 100 \n",
    "    else:\n",
    "        print(\"Loop ended\"); \n",
    "        n = n + 100;\n",
    "       \n",
    "    \n",
    "    \n",
    "    "
   ]
  },
  {
   "cell_type": "markdown",
   "id": "d8de9347",
   "metadata": {},
   "source": [
    "## Problem 3  -Algorithm workbench \n",
    "#We had to write a loop showing the set of numbers from 0 to 1000. I used the for method to do this. "
   ]
  },
  {
   "cell_type": "code",
   "execution_count": 36,
   "id": "573b4402",
   "metadata": {},
   "outputs": [
    {
     "name": "stdout",
     "output_type": "stream",
     "text": [
      "0\n",
      "10\n",
      "20\n",
      "30\n",
      "40\n",
      "50\n",
      "60\n",
      "70\n",
      "80\n",
      "90\n",
      "100\n",
      "110\n",
      "120\n",
      "130\n",
      "140\n",
      "150\n",
      "160\n",
      "170\n",
      "180\n",
      "190\n",
      "200\n",
      "210\n",
      "220\n",
      "230\n",
      "240\n",
      "250\n",
      "260\n",
      "270\n",
      "280\n",
      "290\n",
      "300\n",
      "310\n",
      "320\n",
      "330\n",
      "340\n",
      "350\n",
      "360\n",
      "370\n",
      "380\n",
      "390\n",
      "400\n",
      "410\n",
      "420\n",
      "430\n",
      "440\n",
      "450\n",
      "460\n",
      "470\n",
      "480\n",
      "490\n",
      "500\n",
      "510\n",
      "520\n",
      "530\n",
      "540\n",
      "550\n",
      "560\n",
      "570\n",
      "580\n",
      "590\n",
      "600\n",
      "610\n",
      "620\n",
      "630\n",
      "640\n",
      "650\n",
      "660\n",
      "670\n",
      "680\n",
      "690\n",
      "700\n",
      "710\n",
      "720\n",
      "730\n",
      "740\n",
      "750\n",
      "760\n",
      "770\n",
      "780\n",
      "790\n",
      "800\n",
      "810\n",
      "820\n",
      "830\n",
      "840\n",
      "850\n",
      "860\n",
      "870\n",
      "880\n",
      "890\n",
      "900\n",
      "910\n",
      "920\n",
      "930\n",
      "940\n",
      "950\n",
      "960\n",
      "970\n",
      "980\n",
      "990\n",
      "1000\n"
     ]
    }
   ],
   "source": [
    "### This for loop begins as the number is equal to 0, and after each iteration the number increases by 1,\n",
    "### and is then multiplied by 10 and repeated until the range is above 1000.\n",
    "for num in range (0,1001,10):\n",
    "    print(num);"
   ]
  },
  {
   "cell_type": "markdown",
   "id": "5a08db63",
   "metadata": {},
   "source": [
    "# Programming exercise - problem 1- Bug Collection \n",
    "##Need to create a loop that keeps a total of number of bags collected of bugs for five days, at the end of the loop, it will display how many total bugs are collected. "
   ]
  },
  {
   "cell_type": "code",
   "execution_count": 39,
   "id": "a628a706",
   "metadata": {},
   "outputs": [
    {
     "name": "stdout",
     "output_type": "stream",
     "text": [
      "Enter number of bugs collected in day 1 : 6\n",
      "Enter number of bugs collected in day 2 : 12\n",
      "Enter number of bugs collected in day 3 : 17\n",
      "Enter number of bugs collected in day 4 : 10\n",
      "Enter number of bugs collected in day 5 : 15\n",
      "Total number of bugs collected: 60\n"
     ]
    }
   ],
   "source": [
    "#Need to initialize the total amount of bugs collected \n",
    "TotalCollection = 0\n",
    "#Need to loop from 1 to 5 for the five days of collection\n",
    "for i in range(1,6):\n",
    "    #Where number of bug collected each day get added to inital collection\n",
    "    TotalCollection+=int(input(\"Enter number of bugs collected in day \"+str(i)+\" : \"))\n",
    "#Using print to print out total of bugs collected at end of the five days \n",
    "print(\"Total number of bugs collected:\",TotalCollection)\n"
   ]
  },
  {
   "cell_type": "markdown",
   "id": "aa1d037c",
   "metadata": {},
   "source": [
    "# Programming exercise - Problem 4 - Distance Travelled\n",
    "##We are asked to write a program asking for speed of the vehicle in mph and the number of hours it has travelled, this will use a loop to display the distance it has travelled for each hour."
   ]
  },
  {
   "cell_type": "code",
   "execution_count": null,
   "id": "2b659c72",
   "metadata": {},
   "outputs": [],
   "source": [
    "#Begin asking for speed of the vehicle and naming it speed \n",
    "speed = float(input\"Enter speed of vehicle in mph: \")\"\n",
    "#Ask how many hours were spent travelling \n",
    "hours = int(input(\"Enter number of hours travelled: \")\"\n",
    "            "
   ]
  }
 ],
 "metadata": {
  "kernelspec": {
   "display_name": "Python 3 (ipykernel)",
   "language": "python",
   "name": "python3"
  },
  "language_info": {
   "codemirror_mode": {
    "name": "ipython",
    "version": 3
   },
   "file_extension": ".py",
   "mimetype": "text/x-python",
   "name": "python",
   "nbconvert_exporter": "python",
   "pygments_lexer": "ipython3",
   "version": "3.10.9"
  }
 },
 "nbformat": 4,
 "nbformat_minor": 5
}
